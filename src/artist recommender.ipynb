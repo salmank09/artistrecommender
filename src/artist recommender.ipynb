{
 "cells": [
  {
   "cell_type": "code",
   "execution_count": 1,
   "metadata": {
    "collapsed": false
   },
   "outputs": [
    {
     "data": {
      "text/plain": [
       "(<pyspark.context.SparkContext at 0x104b23c10>,\n",
       " <pyspark.sql.session.SparkSession at 0x104b7ecd0>)"
      ]
     },
     "execution_count": 1,
     "metadata": {},
     "output_type": "execute_result"
    }
   ],
   "source": [
    "sc, spark"
   ]
  },
  {
   "cell_type": "code",
   "execution_count": 133,
   "metadata": {
    "collapsed": true
   },
   "outputs": [],
   "source": [
    "import pyspark as ps\n",
    "from pyspark.sql.types import *\n",
    "from pyspark.ml.recommendation import *\n",
    "from pyspark.ml.evaluation import *\n",
    "import numpy as np\n",
    "from sklearn.metrics import pairwise_distances\n",
    "from scipy.spatial.distance import cosine\n",
    "import pandas as pd\n",
    "import time\n",
    "import ast"
   ]
  },
  {
   "cell_type": "code",
   "execution_count": 3,
   "metadata": {
    "collapsed": false
   },
   "outputs": [],
   "source": [
    "# sc = ps.SparkContext('local[128]')\n",
    "# spark = ps.SQLContext(sc)\n",
    "\n",
    "# from pyspark.sql import SparkSession\n",
    "\n",
    "# spark = (SparkSession.builder\n",
    "#     .master(\"spark://localhost:7077\")\n",
    "#     .config(\"spark.driver.cores\", 127)\n",
    "#     .config(\"spark.driver.memory\", \"1000g\")\n",
    "#     .config(\"spark.hadoop.fs.s3a.impl\", \"org.apache.hadoop.fs.s3a.S3AFileSystem\")\n",
    "#     .config(\"spark.driver.extraClassPath\",\"\")\n",
    "#     .config(\"spark.driver.extraClassPath\",\"\")\n",
    "#     .appName(\"artistrecommender\")\n",
    "#     .getOrCreate())"
   ]
  },
  {
   "cell_type": "markdown",
   "metadata": {},
   "source": [
    "## Data frame loads"
   ]
  },
  {
   "cell_type": "code",
   "execution_count": 210,
   "metadata": {
    "collapsed": true
   },
   "outputs": [],
   "source": [
    "artist_follower_df = spark.read.csv('../data/artist_follower.csv').persist()\n",
    "artist_df = spark.read.csv('../data/artist_meta.csv').persist() #manually flagged duplicates to remove after sc scrape as 1's\n",
    "follower_df = spark.read.csv('../data/followers.csv').persist() \n",
    "\n",
    "artist_follower_df.createOrReplaceTempView('artist_follower')\n",
    "artist_df.createOrReplaceTempView('artists')\n",
    "follower_df.createOrReplaceTempView('followers')"
   ]
  },
  {
   "cell_type": "code",
   "execution_count": 211,
   "metadata": {
    "collapsed": true
   },
   "outputs": [],
   "source": [
    "df = pd.read_csv('../data/artist_meta.csv')"
   ]
  },
  {
   "cell_type": "markdown",
   "metadata": {},
   "source": [
    "## Artist & Follower column name generation"
   ]
  },
  {
   "cell_type": "code",
   "execution_count": 212,
   "metadata": {
    "collapsed": false
   },
   "outputs": [],
   "source": [
    "artist_follower_df = spark.sql(\"\"\"\n",
    "SELECT distinct\n",
    "    /*\n",
    "    _c0 as exception\n",
    "    ,_c1 as artist_num\n",
    "    ,_c2 as artist_follower_num\n",
    "    ,*/\n",
    "    _c3 as artist_alias\n",
    "    ,_c4 as follower_alias\n",
    "FROM artist_follower where _c2 != 'artist_follower_num'\n",
    "\"\"\").persist()\n",
    "\n",
    "artist_follower_df.createOrReplaceTempView('artist_follower')\n",
    "\n",
    "#0 means the artist is not a duplicate record\n",
    "artist_df = spark.sql(\"\"\"\n",
    "SELECT distinct\n",
    "    _c0 as index\n",
    "    ,_c1 as id\n",
    "    ,_c2 as artist_name\n",
    "    ,_c3 as sc_alias\n",
    "    ,_c4 as city\n",
    "    ,_c5 as country\n",
    "    ,_c6 as followers_count\n",
    "    ,_c7 as followings_count\n",
    "    ,_c8 as last_modified\n",
    "    ,_c9 as playlist_count\n",
    "    ,_c10 as plan\n",
    "    ,_c11 as public_favorites_count\n",
    "    ,_c12 as track_count\n",
    "    ,_c13 as count\n",
    "FROM artists where _c2 != 'artist_name'\n",
    "AND _c14 = 0\n",
    "AND _c2 != 'Daft Punk'\n",
    "\"\"\").persist()\n",
    "\n",
    "artist_df.createOrReplaceTempView('artists')\n",
    "\n",
    "follower_df = spark.sql(\"\"\"\n",
    "SELECT distinct\n",
    "    --_c0 as exception\n",
    "    --,_c1 as artist_num\n",
    "    --,_c2 as artist_follower_num\n",
    "    _c3 as artist_alias\n",
    "    ,_c4 as follower_alias\n",
    "    ,_c5 as comments_count\n",
    "    ,_c6 as followers_count\n",
    "    ,_c7 as followings_count\n",
    "    --,_c8 as last_modified\n",
    "    ,_c9 as likes_count\n",
    "    ,_c10 as plan\n",
    "    ,_c11 as playlist_count\n",
    "    ,_c12 as public_favorites_count\n",
    "    ,_c13 as reposts_count\n",
    "    ,_c14 as track_count\n",
    "    ,_c15 as uri\n",
    "    ,_c16 as username\n",
    "FROM followers where _c0 != 'exception'\n",
    "\"\"\").persist()\n",
    "\n",
    "follower_df.createOrReplaceTempView('followers')"
   ]
  },
  {
   "cell_type": "markdown",
   "metadata": {},
   "source": [
    "## Artist & Follower id generation"
   ]
  },
  {
   "cell_type": "code",
   "execution_count": 214,
   "metadata": {
    "collapsed": false
   },
   "outputs": [],
   "source": [
    "custom_artist_id_df = spark.sql(\"\"\"\n",
    "select distinct\n",
    "    row_number() over(order by sc_alias) as artist_id\n",
    "    ,sc_alias as artist_alias\n",
    "from artists\n",
    "group by sc_alias\n",
    "\"\"\").persist()\n",
    "\n",
    "custom_artist_id_df.createOrReplaceTempView('custom_artist_id')\n",
    "\n",
    "custom_follower_id_df = spark.sql(\"\"\"\n",
    "select distinct\n",
    "    row_number() over(order by follower_alias) as follower_id\n",
    "    ,follower_alias\n",
    "from followers\n",
    "group by follower_alias\n",
    "\"\"\").persist()\n",
    "\n",
    "custom_follower_id_df.createOrReplaceTempView('custom_follower_id')\n",
    "\n",
    "artist_follower_ids_df = spark.sql(\"\"\"\n",
    "SELECT DISTINCT\n",
    "    caid.artist_id\n",
    "    ,cfid.follower_id\n",
    "    ,af.artist_alias\n",
    "    ,af.follower_alias\n",
    "    ,1 as count\n",
    "FROM artist_follower af\n",
    "JOIN custom_artist_id caid on af.artist_alias = caid.artist_alias\n",
    "JOIN custom_follower_id cfid on af.follower_alias = cfid.follower_alias\n",
    "sort by af.artist_alias\n",
    "\"\"\").persist()\n",
    "\n",
    "artist_follower_ids_df.createOrReplaceTempView('artist_follower')"
   ]
  },
  {
   "cell_type": "markdown",
   "metadata": {},
   "source": [
    "## ALS model generation"
   ]
  },
  {
   "cell_type": "code",
   "execution_count": 150,
   "metadata": {
    "collapsed": true
   },
   "outputs": [],
   "source": [
    "# als_model = ALS(rank=2, implicitPrefs=True,\n",
    "#           userCol=\"follower_id\", itemCol=\"artist_id\", ratingCol=\"count\", nonnegative=True)"
   ]
  },
  {
   "cell_type": "code",
   "execution_count": 151,
   "metadata": {
    "collapsed": false
   },
   "outputs": [],
   "source": [
    "# als_model = ALS(rank=5, maxIter=5, seed=0, regParam=1, implicitPrefs=True,\n",
    "#           userCol=\"follower_id\", itemCol=\"artist_id\", ratingCol=\"count\", nonnegative=True)"
   ]
  },
  {
   "cell_type": "code",
   "execution_count": 152,
   "metadata": {
    "collapsed": false
   },
   "outputs": [],
   "source": [
    "# model = als_model.fit(artist_follower_ids_df)"
   ]
  },
  {
   "cell_type": "markdown",
   "metadata": {},
   "source": [
    "## Load model item features"
   ]
  },
  {
   "cell_type": "code",
   "execution_count": 174,
   "metadata": {
    "collapsed": true
   },
   "outputs": [],
   "source": [
    "item_features = pd.read_csv('../data/bestModelItems.csv')"
   ]
  },
  {
   "cell_type": "code",
   "execution_count": 175,
   "metadata": {
    "collapsed": false
   },
   "outputs": [
    {
     "data": {
      "text/plain": [
       "4807"
      ]
     },
     "execution_count": 175,
     "metadata": {},
     "output_type": "execute_result"
    }
   ],
   "source": [
    "len(item_features)"
   ]
  },
  {
   "cell_type": "code",
   "execution_count": 176,
   "metadata": {
    "collapsed": true
   },
   "outputs": [],
   "source": [
    "item_features.drop('Unnamed: 0', inplace=True, axis = 1)"
   ]
  },
  {
   "cell_type": "code",
   "execution_count": 177,
   "metadata": {
    "collapsed": false
   },
   "outputs": [],
   "source": [
    "items = spark.createDataFrame(item_features)"
   ]
  },
  {
   "cell_type": "code",
   "execution_count": 178,
   "metadata": {
    "collapsed": true
   },
   "outputs": [],
   "source": [
    "items.createOrReplaceTempView('item_features')"
   ]
  },
  {
   "cell_type": "markdown",
   "metadata": {},
   "source": [
    "## Combine item_features df into new artist_meta data df"
   ]
  },
  {
   "cell_type": "code",
   "execution_count": 225,
   "metadata": {
    "collapsed": false
   },
   "outputs": [],
   "source": [
    "artist_info = spark.sql(\"\"\"\n",
    "    SELECT distinct\n",
    "        if.id\n",
    "        ,if.features\n",
    "        ,a.artist_name\n",
    "        ,a.sc_alias\n",
    "        ,a.city\n",
    "        ,a.country\n",
    "        ,a.followers_count\n",
    "        ,a.followings_count\n",
    "        ,a.last_modified\n",
    "        ,a.playlist_count\n",
    "        ,a.plan\n",
    "        ,a.public_favorites_count\n",
    "        ,a.track_count\n",
    "        ,a.count\n",
    "    FROM item_features if \n",
    "    JOIN custom_artist_id caid on if.id = caid.artist_id\n",
    "    JOIN artists a on caid.artist_alias = a.sc_alias\n",
    "    sort by a.sc_alias\n",
    "\"\"\")"
   ]
  },
  {
   "cell_type": "code",
   "execution_count": 226,
   "metadata": {
    "collapsed": false
   },
   "outputs": [],
   "source": [
    "artist_meta = artist_info.toPandas()"
   ]
  },
  {
   "cell_type": "code",
   "execution_count": 228,
   "metadata": {
    "collapsed": false
   },
   "outputs": [
    {
     "data": {
      "text/plain": [
       "4807"
      ]
     },
     "execution_count": 228,
     "metadata": {},
     "output_type": "execute_result"
    }
   ],
   "source": [
    "len(artist_meta)"
   ]
  },
  {
   "cell_type": "code",
   "execution_count": 229,
   "metadata": {
    "collapsed": false
   },
   "outputs": [
    {
     "data": {
      "text/plain": [
       "4807"
      ]
     },
     "execution_count": 229,
     "metadata": {},
     "output_type": "execute_result"
    }
   ],
   "source": [
    "len(item_features)"
   ]
  },
  {
   "cell_type": "code",
   "execution_count": 231,
   "metadata": {
    "collapsed": true
   },
   "outputs": [],
   "source": [
    "artist_meta['formatted_features'] = artist_meta['features'].map(lambda x: ast.literal_eval(x))"
   ]
  },
  {
   "cell_type": "markdown",
   "metadata": {},
   "source": [
    "## Convert features to matrix and calculate cosine similarity"
   ]
  },
  {
   "cell_type": "code",
   "execution_count": 232,
   "metadata": {
    "collapsed": false
   },
   "outputs": [],
   "source": [
    "items_mat = np.array(list(artist_meta['formatted_features'].values)).astype(float)"
   ]
  },
  {
   "cell_type": "code",
   "execution_count": 233,
   "metadata": {
    "collapsed": false
   },
   "outputs": [],
   "source": [
    "cos_sim = 1-pairwise_distances(items_mat, metric=\"cosine\")"
   ]
  },
  {
   "cell_type": "code",
   "execution_count": 234,
   "metadata": {
    "collapsed": false
   },
   "outputs": [
    {
     "name": "stdout",
     "output_type": "stream",
     "text": [
      "Adam Str�_mstedt\n"
     ]
    }
   ],
   "source": [
    "print artist_meta[artist_meta['sc_alias']=='adam-stromstedt']['artist_name'].values[0]"
   ]
  },
  {
   "cell_type": "code",
   "execution_count": 235,
   "metadata": {
    "collapsed": false
   },
   "outputs": [],
   "source": [
    "artist_meta.to_json('../data/artist_meta.json')"
   ]
  },
  {
   "cell_type": "code",
   "execution_count": 236,
   "metadata": {
    "collapsed": true
   },
   "outputs": [],
   "source": [
    "artist_meta.to_excel('../data/artist_meta.xlsx')"
   ]
  },
  {
   "cell_type": "code",
   "execution_count": 54,
   "metadata": {
    "collapsed": true
   },
   "outputs": [],
   "source": [
    "items_mat = np.array(list(artist_meta['formatted_features'].values)).astype(float)"
   ]
  },
  {
   "cell_type": "markdown",
   "metadata": {},
   "source": [
    "## Concatenate cos_sim matrix with meta data for easy lookup."
   ]
  },
  {
   "cell_type": "code",
   "execution_count": 92,
   "metadata": {
    "collapsed": false
   },
   "outputs": [],
   "source": [
    "cols = list(artist_meta.columns)"
   ]
  },
  {
   "cell_type": "code",
   "execution_count": 93,
   "metadata": {
    "collapsed": true
   },
   "outputs": [],
   "source": [
    "similarity_indices = list(artist_meta['sc_alias'])"
   ]
  },
  {
   "cell_type": "code",
   "execution_count": 94,
   "metadata": {
    "collapsed": false
   },
   "outputs": [],
   "source": [
    "cols.extend(similarity_indices)"
   ]
  },
  {
   "cell_type": "markdown",
   "metadata": {},
   "source": [
    "## Check recommendations by querying an alias"
   ]
  },
  {
   "cell_type": "code",
   "execution_count": 78,
   "metadata": {
    "collapsed": true
   },
   "outputs": [],
   "source": [
    "n = 30"
   ]
  },
  {
   "cell_type": "code",
   "execution_count": 71,
   "metadata": {
    "collapsed": true
   },
   "outputs": [],
   "source": [
    "alias = 'thexxofficial'"
   ]
  },
  {
   "cell_type": "code",
   "execution_count": 72,
   "metadata": {
    "collapsed": false
   },
   "outputs": [],
   "source": [
    "artist = artist_meta[artist_meta['sc_alias']==alias]['artist_name'].values[0]"
   ]
  },
  {
   "cell_type": "code",
   "execution_count": 74,
   "metadata": {
    "collapsed": true
   },
   "outputs": [],
   "source": [
    "artist_aliases = list(artist_meta['sc_alias'])"
   ]
  },
  {
   "cell_type": "code",
   "execution_count": 75,
   "metadata": {
    "collapsed": false
   },
   "outputs": [],
   "source": [
    "index = artist_aliases.index(alias)"
   ]
  },
  {
   "cell_type": "code",
   "execution_count": 76,
   "metadata": {
    "collapsed": false
   },
   "outputs": [],
   "source": [
    "arr = cos_sim[index]"
   ]
  },
  {
   "cell_type": "code",
   "execution_count": 79,
   "metadata": {
    "collapsed": false
   },
   "outputs": [],
   "source": [
    "similar_aliases = np.asarray(artist_aliases)[arr.argsort()[-(n+1):][::-1][1:]]"
   ]
  },
  {
   "cell_type": "code",
   "execution_count": 80,
   "metadata": {
    "collapsed": false
   },
   "outputs": [
    {
     "data": {
      "text/plain": [
       "array([u'scott-fraser', u'george-maple', u'atb-music', u'djkorsakoff',\n",
       "       u'aoelectro', u'bluesohorecordings', u'conjureone', u'bobina',\n",
       "       u'munkgomma', u'djpaulharris', u'innellea', u'tuccillo',\n",
       "       u'ashleywallbridge', u'deadcruiser', u'peggygou', u'romanrauch',\n",
       "       u'starslingeruk', u'ladi6', u'chris-willis', u'combodj',\n",
       "       u'sasch-music', u'jesseroseofficial', u'andyduguidofficial',\n",
       "       u'round-table-knights', u'lcmdf', u'ralphirosario',\n",
       "       u'gloriaestefan', u'stevee1dr', u'mircovioli', u'coreyjamesofficial'], \n",
       "      dtype='<U27')"
      ]
     },
     "execution_count": 80,
     "metadata": {},
     "output_type": "execute_result"
    }
   ],
   "source": [
    "similar_aliases"
   ]
  },
  {
   "cell_type": "code",
   "execution_count": null,
   "metadata": {
    "collapsed": true
   },
   "outputs": [],
   "source": []
  },
  {
   "cell_type": "markdown",
   "metadata": {},
   "source": [
    "## Follower overlap analysis"
   ]
  },
  {
   "cell_type": "code",
   "execution_count": 11,
   "metadata": {
    "collapsed": true
   },
   "outputs": [],
   "source": [
    "artist_follower_group = artist_follower.groupby('follower_alias')"
   ]
  },
  {
   "cell_type": "code",
   "execution_count": 29,
   "metadata": {
    "collapsed": false
   },
   "outputs": [],
   "source": [
    "follower_count = artist_follower_group.count().sort_values(by='artist_alias', ascending=False)"
   ]
  },
  {
   "cell_type": "code",
   "execution_count": 30,
   "metadata": {
    "collapsed": false
   },
   "outputs": [],
   "source": [
    "follower_count = follower_count['artist_alias']"
   ]
  },
  {
   "cell_type": "code",
   "execution_count": 31,
   "metadata": {
    "collapsed": false
   },
   "outputs": [],
   "source": [
    "follower_count = pd.DataFrame(follower_count)"
   ]
  },
  {
   "cell_type": "code",
   "execution_count": 34,
   "metadata": {
    "collapsed": false
   },
   "outputs": [],
   "source": [
    "follower_count.reset_index(inplace=True)"
   ]
  },
  {
   "cell_type": "code",
   "execution_count": 37,
   "metadata": {
    "collapsed": false
   },
   "outputs": [],
   "source": [
    "follower_count.columns = ['follower_alias', 'count']"
   ]
  },
  {
   "cell_type": "code",
   "execution_count": 46,
   "metadata": {
    "collapsed": true
   },
   "outputs": [],
   "source": [
    "#6392743 unique followers\n",
    "#29125208 total followers\n",
    "#26640 followers that were following more than 100 of the ~5000 artists scraped\n",
    "#504836 followers following more than 10 of the ~5000 artists scraped"
   ]
  }
 ],
 "metadata": {
  "anaconda-cloud": {},
  "kernelspec": {
   "display_name": "Python [Root]",
   "language": "python",
   "name": "Python [Root]"
  },
  "language_info": {
   "codemirror_mode": {
    "name": "ipython",
    "version": 2
   },
   "file_extension": ".py",
   "mimetype": "text/x-python",
   "name": "python",
   "nbconvert_exporter": "python",
   "pygments_lexer": "ipython2",
   "version": "2.7.12"
  }
 },
 "nbformat": 4,
 "nbformat_minor": 0
}
