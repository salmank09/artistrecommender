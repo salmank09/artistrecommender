{
 "cells": [
  {
   "cell_type": "code",
   "execution_count": 43,
   "metadata": {
    "collapsed": true
   },
   "outputs": [],
   "source": [
    "import soundcloud\n",
    "import pandas as pd\n",
    "import time\n",
    "from ast import literal_eval\n",
    "from collections import MutableMapping\n",
    "\n",
    "from bs4 import BeautifulSoup\n",
    "import requests\n",
    "import urllib\n",
    "import csv\n",
    "import numpy as np\n",
    "import psycopg2"
   ]
  },
  {
   "cell_type": "code",
   "execution_count": 2,
   "metadata": {
    "collapsed": true
   },
   "outputs": [],
   "source": [
    "c_id = '887b335a80f3e625454ebca548c53d96'\n",
    "client = soundcloud.Client(client_id=c_id)"
   ]
  },
  {
   "cell_type": "code",
   "execution_count": 3,
   "metadata": {
    "collapsed": true
   },
   "outputs": [],
   "source": [
    "df = pd.read_csv('../data/sc_aliases.csv')"
   ]
  },
  {
   "cell_type": "code",
   "execution_count": 4,
   "metadata": {
    "collapsed": false
   },
   "outputs": [
    {
     "data": {
      "text/html": [
       "<div>\n",
       "<table border=\"1\" class=\"dataframe\">\n",
       "  <thead>\n",
       "    <tr style=\"text-align: right;\">\n",
       "      <th></th>\n",
       "      <th>id</th>\n",
       "      <th>artist_name</th>\n",
       "      <th>sc_alias</th>\n",
       "    </tr>\n",
       "  </thead>\n",
       "  <tbody>\n",
       "    <tr>\n",
       "      <th>0</th>\n",
       "      <td>1</td>\n",
       "      <td>009 Sound System</td>\n",
       "      <td>No Soundcloud Found</td>\n",
       "    </tr>\n",
       "    <tr>\n",
       "      <th>1</th>\n",
       "      <td>2</td>\n",
       "      <td>2 Unlimited</td>\n",
       "      <td>x</td>\n",
       "    </tr>\n",
       "    <tr>\n",
       "      <th>2</th>\n",
       "      <td>3</td>\n",
       "      <td>49ers</td>\n",
       "      <td>joe-castellano</td>\n",
       "    </tr>\n",
       "    <tr>\n",
       "      <th>3</th>\n",
       "      <td>4</td>\n",
       "      <td>808 State</td>\n",
       "      <td>No Soundcloud Found</td>\n",
       "    </tr>\n",
       "    <tr>\n",
       "      <th>4</th>\n",
       "      <td>5</td>\n",
       "      <td>A-Trak</td>\n",
       "      <td>a-trak</td>\n",
       "    </tr>\n",
       "  </tbody>\n",
       "</table>\n",
       "</div>"
      ],
      "text/plain": [
       "   id       artist_name             sc_alias\n",
       "0   1  009 Sound System  No Soundcloud Found\n",
       "1   2       2 Unlimited                    x\n",
       "2   3             49ers       joe-castellano\n",
       "3   4         808 State  No Soundcloud Found\n",
       "4   5            A-Trak               a-trak"
      ]
     },
     "execution_count": 4,
     "metadata": {},
     "output_type": "execute_result"
    }
   ],
   "source": [
    "df.head()"
   ]
  },
  {
   "cell_type": "code",
   "execution_count": 6,
   "metadata": {
    "collapsed": false
   },
   "outputs": [],
   "source": [
    "df = df[(df['sc_alias']!= 'x') & (df['sc_alias'] != 'No Soundcloud Found')]"
   ]
  },
  {
   "cell_type": "code",
   "execution_count": 57,
   "metadata": {
    "collapsed": true
   },
   "outputs": [],
   "source": [
    "artists = df['artist_name'].values"
   ]
  },
  {
   "cell_type": "code",
   "execution_count": 54,
   "metadata": {
    "collapsed": true
   },
   "outputs": [],
   "source": [
    "aliases = df['sc_alias'].values"
   ]
  },
  {
   "cell_type": "code",
   "execution_count": 58,
   "metadata": {
    "collapsed": true
   },
   "outputs": [],
   "source": [
    "artist_alias = zip(artists, aliases)"
   ]
  },
  {
   "cell_type": "code",
   "execution_count": 8,
   "metadata": {
    "collapsed": true
   },
   "outputs": [],
   "source": [
    "alias = 'a-trak'"
   ]
  },
  {
   "cell_type": "code",
   "execution_count": 9,
   "metadata": {
    "collapsed": true
   },
   "outputs": [],
   "source": [
    "url = 'https://soundcloud.com/' + alias + '/followers'"
   ]
  },
  {
   "cell_type": "code",
   "execution_count": 59,
   "metadata": {
    "collapsed": true
   },
   "outputs": [],
   "source": [
    "url = 'https://soundcloud.com/' + alias"
   ]
  },
  {
   "cell_type": "markdown",
   "metadata": {},
   "source": [
    "## Connect to db"
   ]
  },
  {
   "cell_type": "code",
   "execution_count": 44,
   "metadata": {
    "collapsed": true
   },
   "outputs": [],
   "source": [
    "conn = psycopg2.connect(dbname='soundcloud', user='postgres')"
   ]
  },
  {
   "cell_type": "code",
   "execution_count": 45,
   "metadata": {
    "collapsed": true
   },
   "outputs": [],
   "source": [
    "c = conn.cursor()"
   ]
  },
  {
   "cell_type": "markdown",
   "metadata": {},
   "source": [
    "## Create a table"
   ]
  },
  {
   "cell_type": "code",
   "execution_count": 51,
   "metadata": {
    "collapsed": true
   },
   "outputs": [],
   "source": [
    "query = \"\"\"\n",
    "CREATE TABLE sc_artists (\n",
    "    id SERIAL PRIMARY KEY\n",
    "    ,artist_name VARCHAR\n",
    "    ,sc_alias VARCHAR\n",
    "    ,city VARCHAR\n",
    "    ,country VARCHAR\n",
    "    ,followers_count VARCHAR\n",
    "    ,followings_count VARCHAR\n",
    "    ,last_modified VARCHAR\n",
    "    ,playlist_count VARCHAR\n",
    "    ,plan VARCHAR\n",
    "    ,public_favorites_count VARCHAR\n",
    "    ,track_count VARCHAR\n",
    ");\n",
    "\"\"\""
   ]
  },
  {
   "cell_type": "code",
   "execution_count": 52,
   "metadata": {
    "collapsed": false
   },
   "outputs": [],
   "source": [
    "c.execute(query)"
   ]
  },
  {
   "cell_type": "code",
   "execution_count": 53,
   "metadata": {
    "collapsed": true
   },
   "outputs": [],
   "source": [
    "conn.commit()"
   ]
  },
  {
   "cell_type": "code",
   "execution_count": null,
   "metadata": {
    "collapsed": true
   },
   "outputs": [],
   "source": []
  },
  {
   "cell_type": "code",
   "execution_count": 56,
   "metadata": {
    "collapsed": true
   },
   "outputs": [],
   "source": [
    "query = \"\"\"\n",
    "INSERT INTO\n",
    "    sc_artists\n",
    "    (artist_name, sc_alias, city, country, followers_count, followings_count, last_modified, playlist_count, plan, public_favorites_count, track_count)\n",
    "    VALUES (%s, %s, %s, %s, %s, %s, %s, %s, %s, %s, %s)\n",
    "\"\"\""
   ]
  },
  {
   "cell_type": "code",
   "execution_count": 71,
   "metadata": {
    "collapsed": true
   },
   "outputs": [],
   "source": [
    "def get_artist_info(artist_alias):\n",
    "    total = str(len(artist_alias))\n",
    "    for index, artist_alias in enumerate(artist_alias):\n",
    "        try:\n",
    "            artist = artist_alias[0]\n",
    "            alias = artist_alias[1]\n",
    "            url = 'https://soundcloud.com/' + alias\n",
    "            artist_info = client.get('/resolve', url=url, linked_partitioning=1, limit=200).fields()\n",
    "            c.execute(query, (str(artist), str(alias), artist_info['city'], artist_info['country'], str(artist_info['followers_count']), str(artist_info['followings_count']), str(artist_info['last_modified']), str(artist_info['playlist_count']), artist_info['plan'], str(artist_info['public_favorites_count']), str(artist_info['track_count']))) \n",
    "            conn.commit()\n",
    "            if index % 25 == 0:\n",
    "                print 'Artist {} of {} complete ({})'.format(str(index), total, artist)\n",
    "        except Exception as e:\n",
    "            conn.commit()\n",
    "            print 'Artist {} of {} failed ({}) due to exception: {}'.format(str(index), total, artist, str(e))"
   ]
  },
  {
   "cell_type": "code",
   "execution_count": 73,
   "metadata": {
    "collapsed": true
   },
   "outputs": [],
   "source": [
    "conn.commit()"
   ]
  },
  {
   "cell_type": "code",
   "execution_count": null,
   "metadata": {
    "collapsed": false
   },
   "outputs": [
    {
     "name": "stdout",
     "output_type": "stream",
     "text": [
      "Artist 0 of 7222 complete (49ers)\n",
      "Artist 25 of 7222 complete (The Aston Shuffle)\n"
     ]
    }
   ],
   "source": [
    "get_artist_info(artist_alias)"
   ]
  },
  {
   "cell_type": "code",
   "execution_count": null,
   "metadata": {
    "collapsed": true
   },
   "outputs": [],
   "source": [
    "\"\"\"\n",
    "for each follower,\n",
    "grab the following fields:\n",
    "city, country, followers_count, followings_count, last_modified, playlist_count, plan, public_favorites_count, track_count, write to CSV\n",
    "\"\"\""
   ]
  },
  {
   "cell_type": "code",
   "execution_count": 40,
   "metadata": {
    "collapsed": false
   },
   "outputs": [
    {
     "data": {
      "text/plain": [
       "'https://soundcloud.com/a-trak'"
      ]
     },
     "execution_count": 40,
     "metadata": {},
     "output_type": "execute_result"
    }
   ],
   "source": [
    "url"
   ]
  },
  {
   "cell_type": "code",
   "execution_count": 36,
   "metadata": {
    "collapsed": true
   },
   "outputs": [],
   "source": [
    "page_size=200"
   ]
  },
  {
   "cell_type": "code",
   "execution_count": 60,
   "metadata": {
    "collapsed": false
   },
   "outputs": [],
   "source": [
    "followers = client.get('/resolve', url=url, linked_partitioning=1, limit=page_size)"
   ]
  },
  {
   "cell_type": "code",
   "execution_count": 63,
   "metadata": {
    "collapsed": false
   },
   "outputs": [
    {
     "data": {
      "text/plain": [
       "5910775"
      ]
     },
     "execution_count": 63,
     "metadata": {},
     "output_type": "execute_result"
    }
   ],
   "source": [
    "followers.fields()"
   ]
  },
  {
   "cell_type": "code",
   "execution_count": 39,
   "metadata": {
    "collapsed": false
   },
   "outputs": [
    {
     "data": {
      "text/plain": [
       "5910768"
      ]
     },
     "execution_count": 39,
     "metadata": {},
     "output_type": "execute_result"
    }
   ],
   "source": [
    "followers.obj['followers_count']"
   ]
  },
  {
   "cell_type": "code",
   "execution_count": 26,
   "metadata": {
    "collapsed": false
   },
   "outputs": [
    {
     "data": {
      "text/plain": [
       "[u'next_href', u'collection']"
      ]
     },
     "execution_count": 26,
     "metadata": {},
     "output_type": "execute_result"
    }
   ],
   "source": [
    "followers.keys()"
   ]
  },
  {
   "cell_type": "code",
   "execution_count": 31,
   "metadata": {
    "collapsed": false
   },
   "outputs": [
    {
     "data": {
      "text/plain": [
       "[u'next_href', u'collection']"
      ]
     },
     "execution_count": 31,
     "metadata": {},
     "output_type": "execute_result"
    }
   ],
   "source": [
    "followers.obj."
   ]
  },
  {
   "cell_type": "code",
   "execution_count": 34,
   "metadata": {
    "collapsed": false
   },
   "outputs": [
    {
     "data": {
      "text/plain": [
       "50"
      ]
     },
     "execution_count": 34,
     "metadata": {},
     "output_type": "execute_result"
    }
   ],
   "source": [
    "len(followers.obj['collection'])"
   ]
  },
  {
   "cell_type": "code",
   "execution_count": null,
   "metadata": {
    "collapsed": true
   },
   "outputs": [],
   "source": []
  },
  {
   "cell_type": "code",
   "execution_count": null,
   "metadata": {
    "collapsed": true
   },
   "outputs": [],
   "source": [
    "for alias in aliases[0:5]:\n",
    "    url = 'https://soundcloud.com/' + alias + '/followers'\n",
    "    try:\n",
    "        followers = client.get('/resolve', url=url, linked_partitioning=1, limit=page_size)\n",
    "        fols = [fol['username'] for fol in followers.obj['collection']]\n",
    "        url = followers.obj.get('next_href')\n",
    "        while url is not None:\n",
    "            followers = client.get(url.split('api.soundcloud.com')[1], linked_partitioning=1, limit=page_size)\n",
    "            fols.extend([fol['username'] for fol in followers.obj['collection']])\n",
    "            url = followers.obj.get('next_href')\n",
    "        all_followers.extend(zip(([alias for fol in xrange(len(fols))], fols)))\n",
    "    except:\n",
    "        continue"
   ]
  },
  {
   "cell_type": "code",
   "execution_count": null,
   "metadata": {
    "collapsed": true
   },
   "outputs": [],
   "source": [
    "for alias in aliases[0:5]:\n",
    "    url = 'https://soundcloud.com/' + alias + '/followers'\n",
    "    try:\n",
    "        followers = client.get('/resolve', url=url, linked_partitioning=1, limit=page_size)\n",
    "        for fol in followers.obj['collection']:\n",
    "            folls = folls.append({'alias': alias, 'follower': fol['username']}, ignore_index=True)\n",
    "        url = followers.obj.get('next_href')\n",
    "        while url is not None:\n",
    "            followers = client.get(url.split('api.soundcloud.com')[1], linked_partitioning=1, limit=page_size)\n",
    "            for fol in followers.obj['collection']:\n",
    "                folls = folls.append({'alias': alias, 'follower': fol}, ignore_index=True)\n",
    "                url = followers.obj.get('next_href')\n",
    "        print alias + ' worked'\n",
    "    except Exception, e:\n",
    "        print alias + ' did not work', str(e)\n",
    "        continue"
   ]
  }
 ],
 "metadata": {
  "anaconda-cloud": {},
  "kernelspec": {
   "display_name": "Python [Root]",
   "language": "python",
   "name": "Python [Root]"
  },
  "language_info": {
   "codemirror_mode": {
    "name": "ipython",
    "version": 2
   },
   "file_extension": ".py",
   "mimetype": "text/x-python",
   "name": "python",
   "nbconvert_exporter": "python",
   "pygments_lexer": "ipython2",
   "version": "2.7.12"
  }
 },
 "nbformat": 4,
 "nbformat_minor": 0
}
