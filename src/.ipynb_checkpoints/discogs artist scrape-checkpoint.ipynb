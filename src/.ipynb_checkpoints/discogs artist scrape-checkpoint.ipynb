{
 "cells": [
  {
   "cell_type": "code",
   "execution_count": 12,
   "metadata": {
    "collapsed": true
   },
   "outputs": [],
   "source": [
    "import pandas as pd\n",
    "from bs4 import BeautifulSoup\n",
    "import requests\n",
    "import urllib\n",
    "import csv\n",
    "import numpy as np"
   ]
  },
  {
   "cell_type": "code",
   "execution_count": 1,
   "metadata": {
    "collapsed": true
   },
   "outputs": [],
   "source": [
    "url = 'https://www.discogs.com/search/?sort=have%2Cdesc&style_exact=House&genre_exact=Electronic&decade=2010&page=1'"
   ]
  },
  {
   "cell_type": "code",
   "execution_count": null,
   "metadata": {
    "collapsed": true
   },
   "outputs": [],
   "source": []
  },
  {
   "cell_type": "code",
   "execution_count": 19,
   "metadata": {
    "collapsed": false
   },
   "outputs": [],
   "source": [
    "def load_discogs_artists():\n",
    "    #scrape pages 1 - 500\n",
    "    df = pd.DataFrame(columns = ['artist_name'])\n",
    "\n",
    "    for page_num in xrange(1, 2):\n",
    "        url = 'https://www.discogs.com/search/?sort=have%2Cdesc&style_exact=House&genre_exact=Electronic&decade=2010&page=' + str(page_num)\n",
    "        headers = { 'User-Agent': 'Mozilla/5.0 (Windows NT 6.0; WOW64; rv:24.0) Gecko/20100101 Firefox/24.0' }\n",
    "        r = requests.get(url, headers = headers)\n",
    "        html = r.content\n",
    "        soup = BeautifulSoup(html, 'html.parser')\n",
    "        \n",
    "        for artist in soup.findAll('span'):\n",
    "            if artist.has_attr('title') and artist.has_attr('itemprop'):\n",
    "                df.loc[len(df)] = artist['title']\n",
    "    \n",
    "    return df"
   ]
  },
  {
   "cell_type": "code",
   "execution_count": null,
   "metadata": {
    "collapsed": true
   },
   "outputs": [],
   "source": []
  },
  {
   "cell_type": "code",
   "execution_count": 2,
   "metadata": {
    "collapsed": true
   },
   "outputs": [],
   "source": [
    "def load_wiki_artists():\n",
    "    url = 'https://en.wikipedia.org/wiki/List_of_house_music_artists'\n",
    "    headers = { 'User-Agent': 'Mozilla/5.0 (Windows NT 6.0; WOW64; rv:24.0) Gecko/20100101 Firefox/24.0' }\n",
    "    r = requests.get(url, headers = headers)\n",
    "    html = r.content\n",
    "    soup = BeautifulSoup(html, 'html.parser')\n",
    "\n",
    "    df = pd.DataFrame(columns = ['artist_name'])\n",
    "    \n",
    "    for artist in soup.findAll('a'):\n",
    "        if artist.has_attr('title'):\n",
    "            try:\n",
    "                df.loc[len(df)] = artist.contents[0]\n",
    "            except Exception as e:\n",
    "                df.loc[len(df)] = 'Exception ' + str(e)\n",
    "                continue    \n",
    "    return df"
   ]
  },
  {
   "cell_type": "code",
   "execution_count": null,
   "metadata": {
    "collapsed": true
   },
   "outputs": [],
   "source": []
  }
 ],
 "metadata": {
  "kernelspec": {
   "display_name": "Python [Root]",
   "language": "python",
   "name": "Python [Root]"
  },
  "language_info": {
   "codemirror_mode": {
    "name": "ipython",
    "version": 2
   },
   "file_extension": ".py",
   "mimetype": "text/x-python",
   "name": "python",
   "nbconvert_exporter": "python",
   "pygments_lexer": "ipython2",
   "version": "2.7.12"
  }
 },
 "nbformat": 4,
 "nbformat_minor": 0
}
