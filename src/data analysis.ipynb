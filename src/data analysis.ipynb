{
 "cells": [
  {
   "cell_type": "code",
   "execution_count": null,
   "metadata": {
    "collapsed": true
   },
   "outputs": [],
   "source": []
  },
  {
   "cell_type": "markdown",
   "metadata": {},
   "source": [
    "## Follower overlap analysis"
   ]
  },
  {
   "cell_type": "code",
   "execution_count": null,
   "metadata": {
    "collapsed": true
   },
   "outputs": [],
   "source": [
    "artist_follower_group = artist_follower.groupby('follower_alias')\n",
    "follower_count = artist_follower_group.count().sort_values(by='artist_alias', ascending=False)\n",
    "follower_count = follower_count['artist_alias']\n",
    "follower_count = pd.DataFrame(follower_count)\n",
    "follower_count.reset_index(inplace=True)\n",
    "follower_count.columns = ['follower_alias', 'count']\n",
    "#6392743 unique followers\n",
    "#29125208 total followers\n",
    "#26640 followers that were following more than 100 of the ~5000 artists scraped\n",
    "#504836 followers following more than 10 of the ~5000 artists scraped"
   ]
  }
 ],
 "metadata": {
  "kernelspec": {
   "display_name": "Python [Root]",
   "language": "python",
   "name": "Python [Root]"
  },
  "language_info": {
   "codemirror_mode": {
    "name": "ipython",
    "version": 2
   },
   "file_extension": ".py",
   "mimetype": "text/x-python",
   "name": "python",
   "nbconvert_exporter": "python",
   "pygments_lexer": "ipython2",
   "version": "2.7.12"
  }
 },
 "nbformat": 4,
 "nbformat_minor": 0
}
